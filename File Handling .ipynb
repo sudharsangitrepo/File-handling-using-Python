{
 "cells": [
  {
   "cell_type": "markdown",
   "metadata": {},
   "source": [
    "# Basic modules and functions for file handling"
   ]
  },
  {
   "cell_type": "code",
   "execution_count": 37,
   "metadata": {},
   "outputs": [],
   "source": [
    "import os\n",
    "import platform\n",
    "import shutil"
   ]
  },
  {
   "cell_type": "code",
   "execution_count": 2,
   "metadata": {},
   "outputs": [
    {
     "name": "stdout",
     "output_type": "stream",
     "text": [
      "nt\n",
      "Windows\n",
      "10\n"
     ]
    }
   ],
   "source": [
    "print(os.name)\n",
    "print(platform.system())\n",
    "print(platform.release())"
   ]
  },
  {
   "cell_type": "code",
   "execution_count": 3,
   "metadata": {},
   "outputs": [
    {
     "name": "stdout",
     "output_type": "stream",
     "text": [
      "uname_result(system='Windows', node='DESKTOP-2AUNIDP', release='10', version='10.0.19041', machine='AMD64', processor='Intel64 Family 6 Model 42 Stepping 7, GenuineIntel')\n"
     ]
    }
   ],
   "source": [
    "print(platform.uname())"
   ]
  },
  {
   "cell_type": "code",
   "execution_count": 9,
   "metadata": {},
   "outputs": [
    {
     "data": {
      "text/plain": [
       "'E:\\\\Data_science'"
      ]
     },
     "execution_count": 9,
     "metadata": {},
     "output_type": "execute_result"
    }
   ],
   "source": [
    "a=os.getcwd()\n",
    "a"
   ]
  },
  {
   "cell_type": "code",
   "execution_count": 10,
   "metadata": {},
   "outputs": [
    {
     "data": {
      "text/plain": [
       "['.ipynb_checkpoints',\n",
       " 'Check',\n",
       " 'Code check.ipynb',\n",
       " 'Data_sets',\n",
       " 'detect',\n",
       " 'document_classification',\n",
       " 'EDA on Mortgage.ipynb',\n",
       " 'Edited_validation.ipynb',\n",
       " 'Factors affecting Mortgage.txt',\n",
       " 'Feature Engineering.ipynb',\n",
       " 'File Handling .ipynb',\n",
       " 'Image processing',\n",
       " 'IMG_20181228_101826.jpg',\n",
       " 'IMG_20181228_101826.xml',\n",
       " 'my_models',\n",
       " 'Object detection.ipynb',\n",
       " 'pandas-10min.pdf',\n",
       " 'Pickle.ipynb',\n",
       " 'Practice classification model .ipynb',\n",
       " 'Process of ML.txt',\n",
       " 'putty.exe',\n",
       " 'pythonprojects',\n",
       " 'synaptic',\n",
       " 'Train',\n",
       " 'Validation',\n",
       " 'vgg16 2.ipynb',\n",
       " 'VGG16 model (1).ipynb',\n",
       " 'vgg16.ipynb',\n",
       " 'Web scraping.ipynb']"
      ]
     },
     "execution_count": 10,
     "metadata": {},
     "output_type": "execute_result"
    }
   ],
   "source": [
    "os.listdir(a)"
   ]
  },
  {
   "cell_type": "code",
   "execution_count": 4,
   "metadata": {},
   "outputs": [
    {
     "name": "stdout",
     "output_type": "stream",
     "text": [
      "this file don't exists\n"
     ]
    }
   ],
   "source": [
    "try:\n",
    "    open ('Process of ML.txt','r')\n",
    "except:\n",
    "    print(\"this file don't exists\")"
   ]
  },
  {
   "cell_type": "code",
   "execution_count": 9,
   "metadata": {},
   "outputs": [
    {
     "name": "stdout",
     "output_type": "stream",
     "text": [
      "<generator object walk at 0x0000019D345955C8>\n"
     ]
    }
   ],
   "source": [
    "print(os.walk(r'E:/Data_science/Check'))"
   ]
  },
  {
   "cell_type": "code",
   "execution_count": 20,
   "metadata": {},
   "outputs": [
    {
     "name": "stdout",
     "output_type": "stream",
     "text": [
      ".ipynb_checkpoints\n",
      "Check\n",
      "Code check.ipynb\n",
      "Data_sets\n",
      "detect\n",
      "document_classification\n",
      "EDA on Mortgage.ipynb\n",
      "Edited_validation.ipynb\n",
      "Factors affecting Mortgage.txt\n",
      "Feature Engineering.ipynb\n",
      "File Handling .ipynb\n",
      "Image processing\n",
      "my_models\n",
      "Object detection.ipynb\n",
      "pandas-10min.pdf\n",
      "Pickle.ipynb\n",
      "Practice classification model .ipynb\n",
      "Process of ML.txt\n",
      "putty.exe\n",
      "pythonprojects\n",
      "synaptic\n",
      "Train\n",
      "Validation\n",
      "vgg16 2.ipynb\n",
      "VGG16 model (1).ipynb\n",
      "vgg16.ipynb\n",
      "Web scraping.ipynb\n"
     ]
    }
   ],
   "source": [
    "b = os.listdir(a)\n",
    "for i in b:\n",
    "    if i.endswith(\"\"):\n",
    "        print(i)"
   ]
  },
  {
   "cell_type": "code",
   "execution_count": 51,
   "metadata": {},
   "outputs": [],
   "source": [
    "os.mkdir('dira')"
   ]
  },
  {
   "cell_type": "code",
   "execution_count": 50,
   "metadata": {},
   "outputs": [],
   "source": [
    "os.makedirs('dirA/dire')"
   ]
  },
  {
   "cell_type": "code",
   "execution_count": 52,
   "metadata": {},
   "outputs": [],
   "source": [
    "subfolder_names = ['dirw','dirq','dirg']\n",
    "for subfolder_name in subfolder_names:\n",
    "    os.makedirs(os.path.join('dira', subfolder_name))"
   ]
  },
  {
   "cell_type": "code",
   "execution_count": 41,
   "metadata": {},
   "outputs": [],
   "source": [
    "subfolders = [ f for f in os.scandir('E:/Data_science') if f.is_dir() ]"
   ]
  },
  {
   "cell_type": "code",
   "execution_count": 42,
   "metadata": {},
   "outputs": [
    {
     "data": {
      "text/plain": [
       "[<DirEntry '.ipynb_checkpoints'>,\n",
       " <DirEntry 'Check'>,\n",
       " <DirEntry 'Data_sets'>,\n",
       " <DirEntry 'detect'>,\n",
       " <DirEntry 'document_classification'>,\n",
       " <DirEntry 'Image processing'>,\n",
       " <DirEntry 'my_models'>,\n",
       " <DirEntry 'pythonprojects'>,\n",
       " <DirEntry 'synaptic'>,\n",
       " <DirEntry 'Train'>,\n",
       " <DirEntry 'Validation'>]"
      ]
     },
     "execution_count": 42,
     "metadata": {},
     "output_type": "execute_result"
    }
   ],
   "source": [
    "subfolders"
   ]
  },
  {
   "cell_type": "code",
   "execution_count": 43,
   "metadata": {},
   "outputs": [],
   "source": [
    "file = [ f for f in os.scandir('E:/Data_science') if f.is_file() ]"
   ]
  },
  {
   "cell_type": "code",
   "execution_count": 44,
   "metadata": {
    "scrolled": true
   },
   "outputs": [
    {
     "data": {
      "text/plain": [
       "[<DirEntry 'Code check.ipynb'>,\n",
       " <DirEntry 'EDA on Mortgage.ipynb'>,\n",
       " <DirEntry 'Edited_validation.ipynb'>,\n",
       " <DirEntry 'Factors affecting Mortgage.txt'>,\n",
       " <DirEntry 'Feature Engineering.ipynb'>,\n",
       " <DirEntry 'File Handling .ipynb'>,\n",
       " <DirEntry 'Object detection.ipynb'>,\n",
       " <DirEntry 'pandas-10min.pdf'>,\n",
       " <DirEntry 'Pickle.ipynb'>,\n",
       " <DirEntry 'Practice classification model .ipynb'>,\n",
       " <DirEntry 'Process of ML.txt'>,\n",
       " <DirEntry 'putty.exe'>,\n",
       " <DirEntry 'vgg16 2.ipynb'>,\n",
       " <DirEntry 'VGG16 model (1).ipynb'>,\n",
       " <DirEntry 'vgg16.ipynb'>,\n",
       " <DirEntry 'Web scraping.ipynb'>]"
      ]
     },
     "execution_count": 44,
     "metadata": {},
     "output_type": "execute_result"
    }
   ],
   "source": [
    "file"
   ]
  },
  {
   "cell_type": "code",
   "execution_count": 47,
   "metadata": {},
   "outputs": [
    {
     "data": {
      "text/plain": [
       "<nt.ScandirIterator at 0x2701311b710>"
      ]
     },
     "execution_count": 47,
     "metadata": {},
     "output_type": "execute_result"
    }
   ],
   "source": [
    "os.scandir('E:/Data_science')"
   ]
  },
  {
   "cell_type": "markdown",
   "metadata": {},
   "source": [
    "# Checking the unique file extensions in a folder"
   ]
  },
  {
   "cell_type": "code",
   "execution_count": 19,
   "metadata": {},
   "outputs": [
    {
     "data": {
      "text/plain": [
       "{'jpg', 'msg', 'pdf', 'xml'}"
      ]
     },
     "execution_count": 19,
     "metadata": {},
     "output_type": "execute_result"
    }
   ],
   "source": [
    "exts = set(f.split('.')[-1] for dir,dirs,files in os.walk('E:/Data_science/Check') for f in files if '.' in f)\n",
    "exts"
   ]
  },
  {
   "cell_type": "code",
   "execution_count": 4,
   "metadata": {},
   "outputs": [
    {
     "name": "stdout",
     "output_type": "stream",
     "text": [
      "exe\n",
      "ipynb\n"
     ]
    }
   ],
   "source": [
    "from glob import glob\n",
    "filename='E:/Data_science/Check'\n",
    "extensions = set(filename.split('.')[1] for filename in glob('*.*'))\n",
    "\n",
    "for extension in extensions:\n",
    "    print(extension)"
   ]
  },
  {
   "cell_type": "code",
   "execution_count": 12,
   "metadata": {},
   "outputs": [
    {
     "name": "stdout",
     "output_type": "stream",
     "text": [
      "Iterate over a root level path:\n",
      "E:/Data_science/Web_scraping\n",
      "E:/Data_science/Web_scraping\\.ipynb_checkpoints\n"
     ]
    }
   ],
   "source": [
    "import os\n",
    "print('Iterate over a root level path:')\n",
    "path = 'E:/Data_science/Web_scraping'\n",
    "for root, dirs, files in os.walk(path):\n",
    "    print(root)"
   ]
  },
  {
   "cell_type": "code",
   "execution_count": 10,
   "metadata": {},
   "outputs": [],
   "source": [
    "import os\n",
    "import shutil\n",
    "l=[]\n",
    "l2=[]\n",
    "extensions = set()\n",
    "my_root ='E:/Data_science/Check'\n",
    "for root, dirs, files in os.walk(my_root):\n",
    "    for file in files: \n",
    "        pathname, exten = os.path.splitext(file) \n",
    "        extensions.add(exten)\n",
    "for i in  set(extensions):\n",
    "    os.makedirs('E:/Data_science/Check'+'\\\\'+i)\n",
    "    \n",
    "for files, i in zip(l, l2):\n",
    "    if i in files:\n",
    "        if os.path.exists('E:/Data_science/Check'+'\\\\'+i+'\\\\'+files):\n",
    "            pass\n",
    "        else:\n",
    "            shutil.move('E:/Data_science/Check'+'\\\\'+files, 'E:/Data_science/Check'+'\\\\'+i)\n",
    "            print(i, files)\n",
    "    else :\n",
    "        print('error')"
   ]
  },
  {
   "cell_type": "code",
   "execution_count": null,
   "metadata": {},
   "outputs": [],
   "source": [
    "for i in os.listdir('E:/Data_science/Check'):\n",
    "    if i.endswith('.jpg'):\n",
    "        filename='E:/Data_science/Check/'+i\n",
    "        shutil.move(filename,'E:/Data_science/Check/jpg')\n",
    "    elif i.endswith('.xml'):\n",
    "        filename='E:/Data_science/Check/'+i\n",
    "        shutil.move(filename,'E:/Data_science/Check/xml')\n",
    "    elif i.endswith('.pdf'):\n",
    "        filename='E:/Data_science/Check/'+i\n",
    "        shutil.move(filename,'E:/Data_science/Check/pdf')"
   ]
  },
  {
   "cell_type": "markdown",
   "metadata": {},
   "source": [
    "# Checking all the files and folders in a directory"
   ]
  },
  {
   "cell_type": "code",
   "execution_count": 15,
   "metadata": {},
   "outputs": [
    {
     "name": "stdout",
     "output_type": "stream",
     "text": [
      ".jpg\n",
      ".msg\n",
      ".pdf\n",
      ".xml\n",
      "IMG_20181228_101826.jpg\n",
      "IMG_20181228_101826.xml\n",
      "IMG_20181228_101855.jpg\n",
      "IMG_20181228_101855.xml\n",
      "IMG_20181228_101903.jpg\n",
      "IMG_20181228_101903.xml\n",
      "ML certificate.pdf\n",
      "pandas-10min.pdf\n",
      "Py certificate.pdf\n",
      "sample.msg\n"
     ]
    }
   ],
   "source": [
    "for count, filename in enumerate(os.listdir(\"E:/Data_science/Check\")): \n",
    "    print(filename)"
   ]
  },
  {
   "cell_type": "markdown",
   "metadata": {},
   "source": [
    "# To check the unique file extensions in a folder"
   ]
  },
  {
   "cell_type": "code",
   "execution_count": 16,
   "metadata": {},
   "outputs": [
    {
     "name": "stdout",
     "output_type": "stream",
     "text": [
      "{'xml', 'msg', 'pdf', 'jpg'}\n"
     ]
    }
   ],
   "source": [
    "import os\n",
    "import shutil \n",
    "\n",
    "os.chdir(r'E:/Data_science/Check')\n",
    "cwd = os.getcwd()\n",
    "\n",
    "l = [f for f in os.listdir(cwd) if os.path.isfile(f)]\n",
    "l2 = []\n",
    "\n",
    "for value in l:\n",
    "    s = value.split('.')[1]\n",
    "    l2.append(s)\n",
    "print(set(l2))"
   ]
  },
  {
   "cell_type": "markdown",
   "metadata": {},
   "source": [
    "# Creating Folders based on the extension and moves the files into those folders"
   ]
  },
  {
   "cell_type": "code",
   "execution_count": 17,
   "metadata": {},
   "outputs": [],
   "source": [
    "def extension(path):\n",
    "    import os \n",
    "    import shutil\n",
    "    os.chdir(path)\n",
    "    l = [f for f in os.listdir(path) if os.path.isfile(f)]\n",
    "    l2 = []\n",
    "    for value in l:\n",
    "        s = value.split('.')[1]\n",
    "        l2.append(s)\n",
    "\n",
    "    for i in  set(l2):\n",
    "        os.makedirs(path+'\\\\'+i) \n",
    "    \n",
    "    for files, i in zip(l, l2):\n",
    "        if i in files:\n",
    "            if os.path.exists(path+'\\\\'+i+'\\\\'+files):\n",
    "                pass\n",
    "            else:\n",
    "                shutil.move(path+'\\\\'+files, path+'\\\\'+i)\n",
    "        else :\n",
    "            print('error')\n",
    "    \n",
    "    return('Files moved')"
   ]
  },
  {
   "cell_type": "code",
   "execution_count": 18,
   "metadata": {},
   "outputs": [
    {
     "data": {
      "text/plain": [
       "'Files moved'"
      ]
     },
     "execution_count": 18,
     "metadata": {},
     "output_type": "execute_result"
    }
   ],
   "source": [
    "extension(\"E:/Data_science/Check\")"
   ]
  },
  {
   "cell_type": "markdown",
   "metadata": {},
   "source": [
    "# Reading files "
   ]
  },
  {
   "cell_type": "code",
   "execution_count": 43,
   "metadata": {},
   "outputs": [],
   "source": [
    "with open(r'E:/Data_science/SIX/S_TGT.txt') as f:\n",
    "    line=f.read()"
   ]
  },
  {
   "cell_type": "code",
   "execution_count": 44,
   "metadata": {},
   "outputs": [
    {
     "data": {
      "text/plain": [
       "'Ts=2021-11-15 10:01:42.000, Lvl=INFO: otp/six/irtreoprts/ 20211115_ABC_WEOD.csv transferred to target from src to /SE12345/dummy/20211115_SBC_WEOD.csv\\nTs=2021-11-15 10:01:42.000, Lvl=INFO: otp/six/irtreoprts/ 20211115_DEF_WEOD.csv transferred to target from src to /SE54567/dummy/20211115_SBC_WEOD.csv\\nTs=2021-11-15 10:01:42.000, Lvl=INFO: otp/six/irtreoprts/ 20211115_GHI_WEOD.csv transferred to target from src to /SE76890/dummy/20211115_SBC_WEOD.csv\\nTs=2021-11-15 10:01:42.000, Lvl=INFO: otp/six/irtreoprts/ 20211115_JKL_WEOD.csv transferred to target from src to /SE67543/dummy/20211115_SBC_WEOD.csv\\nTs=2021-11-15 10:01:42.000, Lvl=INFO: otp/six/irtreoprts/ 20211115_MNO_WEOD.csv transferred to target from src to /SE11111/dummy/20211115_SBC_WEOD.csv\\nTs=2021-11-15 10:01:42.000, Lvl=INFO: otp/six/irtreoprts/ 20211115_PQR_WEOD.csv transferred to target from src to /SE78876/dummy/20211115_SBC_WEOD.csv\\nTs=2021-11-15 10:01:42.000, Lvl=INFO: otp/six/irtreoprts/ 20211115_STU_WEOD.csv transferred to target from src to /SE12000/dummy/20211115_SBC_WEOD.csv\\nTs=2021-11-15 10:01:42.000, Lvl=INFO: otp/six/irtreoprts/ 20211115_STU_WEOD.csv transferred to target from src to /SE12000/dummy/20211115_SBO_WEOD.csv'"
      ]
     },
     "execution_count": 44,
     "metadata": {},
     "output_type": "execute_result"
    }
   ],
   "source": [
    "line"
   ]
  }
 ],
 "metadata": {
  "kernelspec": {
   "display_name": "Python 3",
   "language": "python",
   "name": "python3"
  },
  "language_info": {
   "codemirror_mode": {
    "name": "ipython",
    "version": 3
   },
   "file_extension": ".py",
   "mimetype": "text/x-python",
   "name": "python",
   "nbconvert_exporter": "python",
   "pygments_lexer": "ipython3",
   "version": "3.6.12"
  }
 },
 "nbformat": 4,
 "nbformat_minor": 4
}
